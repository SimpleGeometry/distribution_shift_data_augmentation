{
  "cells": [
    {
      "cell_type": "code",
      "execution_count": null,
      "metadata": {
        "id": "pM_5UK-Cv_sh"
      },
      "outputs": [],
      "source": [
        "import torch, torchvision\n",
        "from torchvision.models import resnet50, ResNet50_Weights\n",
        "from torchvision import transforms\n",
        "import tqdm\n",
        "import matplotlib.pyplot as plt"
      ]
    },
    {
      "cell_type": "code",
      "execution_count": 21,
      "metadata": {},
      "outputs": [
        {
          "data": {
            "text/plain": [
              "'cpu'"
            ]
          },
          "execution_count": 21,
          "metadata": {},
          "output_type": "execute_result"
        }
      ],
      "source": [
        "device = 'cuda' if torch.cuda.is_available() else 'cpu'\n",
        "device"
      ]
    },
    {
      "cell_type": "code",
      "execution_count": 23,
      "metadata": {
        "id": "eEKUY2oUwIPu"
      },
      "outputs": [],
      "source": [
        "resnet = resnet50(weights=ResNet50_Weights.DEFAULT)\n",
        "resnet.to(device)\n",
        "freeze_layers = True"
      ]
    },
    {
      "cell_type": "code",
      "execution_count": null,
      "metadata": {},
      "outputs": [],
      "source": [
        "if freeze_layers:\n",
        "    for param in resnet.parameters():\n",
        "        param.requires_grad = False\n",
        "    for param in resnet.fc.parameters():\n",
        "        param.requires_grad = True"
      ]
    },
    {
      "cell_type": "code",
      "execution_count": 4,
      "metadata": {
        "id": "R6sFBx_ZxAbT"
      },
      "outputs": [],
      "source": [
        "augmentation = transforms.Compose([\n",
        "    transforms.ToTensor(),\n",
        "    transforms.CenterCrop(10),\n",
        "    transforms.Normalize((0.485, 0.456, 0.406), (0.229, 0.224, 0.225))\n",
        "    ]\n",
        ")\n",
        "\n",
        "default = transforms.Compose([\n",
        "    transforms.ToTensor(),\n",
        "    transforms.CenterCrop(10),\n",
        "    transforms.Normalize((0.485, 0.456, 0.406), (0.229, 0.224, 0.225))\n",
        "    ]\n",
        ")\n"
      ]
    },
    {
      "cell_type": "code",
      "execution_count": 6,
      "metadata": {
        "colab": {
          "base_uri": "https://localhost:8080/"
        },
        "id": "9Og9wR9jwYF7",
        "outputId": "f12ca9a6-884d-4e57-b3e8-fbc81667270c"
      },
      "outputs": [
        {
          "name": "stdout",
          "output_type": "stream",
          "text": [
            "Downloading https://www.cs.toronto.edu/~kriz/cifar-10-python.tar.gz to CIFAR_train/cifar-10-python.tar.gz\n"
          ]
        },
        {
          "name": "stderr",
          "output_type": "stream",
          "text": [
            "100%|██████████| 170498071/170498071 [00:07<00:00, 21428964.57it/s]\n"
          ]
        },
        {
          "name": "stdout",
          "output_type": "stream",
          "text": [
            "Extracting CIFAR_train/cifar-10-python.tar.gz to CIFAR_train\n",
            "Downloading https://www.cs.toronto.edu/~kriz/cifar-10-python.tar.gz to CIFAR_test/cifar-10-python.tar.gz\n"
          ]
        },
        {
          "name": "stderr",
          "output_type": "stream",
          "text": [
            "100%|██████████| 170498071/170498071 [00:07<00:00, 22507371.22it/s]\n"
          ]
        },
        {
          "name": "stdout",
          "output_type": "stream",
          "text": [
            "Extracting CIFAR_test/cifar-10-python.tar.gz to CIFAR_test\n"
          ]
        }
      ],
      "source": [
        "cifar_train = torchvision.datasets.CIFAR10(\"CIFAR_train\", train=True, download=True, transform=augmentation)\n",
        "cifar_test = torchvision.datasets.CIFAR10(\"CIFAR_test\", train=False, download=True, transform=default)"
      ]
    },
    {
      "cell_type": "code",
      "execution_count": 12,
      "metadata": {
        "id": "xFJe_9y9xXBq"
      },
      "outputs": [],
      "source": [
        "trainloader = torch.utils.data.DataLoader(cifar_train,\n",
        "                                          batch_size=8,\n",
        "                                          shuffle=True,\n",
        "                                          num_workers=1)\n",
        "testloader = torch.utils.data.DataLoader(cifar_test,\n",
        "                                          batch_size=256,\n",
        "                                          shuffle=True,\n",
        "                                          num_workers=1)    "
      ]
    },
    {
      "cell_type": "code",
      "execution_count": 31,
      "metadata": {
        "colab": {
          "base_uri": "https://localhost:8080/"
        },
        "id": "2J9vm3xYxeMe",
        "outputId": "70f29187-1b39-442d-bde6-2fe6cbd84f6b"
      },
      "outputs": [
        {
          "name": "stderr",
          "output_type": "stream",
          "text": [
            "  0%|          | 0/6250 [00:04<?, ?it/s]\n"
          ]
        }
      ],
      "source": [
        "optimizer = torch.optim.Adam(resnet.parameters())\n",
        "crit = torch.nn.CrossEntropyLoss()\n",
        "train_losses = []\n",
        "val_losses = []\n",
        "\n",
        "for epoch in range(1):\n",
        "  tq = tqdm.tqdm(trainloader)\n",
        "  \n",
        "  train_loss_sum = 0\n",
        "  train_loss_n = 0\n",
        "  # val\n",
        "  if epoch % 5 == 0:\n",
        "    for (data,gt) in testloader:\n",
        "      data = data.to(device)\n",
        "      gt = gt.to(device)\n",
        "      pred = resnet(data)\n",
        "      loss = crit(pred,gt)\n",
        "      val_losses.append(loss.item())\n",
        "      break   \n",
        "  for (data, gt) in tq:\n",
        "    data = data.to(device)\n",
        "    gt = gt.to(device)\n",
        "    with torch.enable_grad():\n",
        "      pred = resnet(data)\n",
        "      loss = crit(pred, gt)\n",
        "\n",
        "      optimizer.zero_grad()\n",
        "      loss.backward()\n",
        "      optimizer.step()\n",
        "\n",
        "      train_loss_sum += loss\n",
        "      train_loss_n += 1\n",
        "  train_loss_avg = train_loss_sum / train_loss_n\n",
        "  train_losses.append(train_loss_avg.item())\n",
        "  tq.set_description(f\"epoch loss: {train_loss_avg}\")"
      ]
    },
    {
      "cell_type": "code",
      "execution_count": 34,
      "metadata": {
        "id": "-KuNlzW8xgrF"
      },
      "outputs": [
        {
          "data": {
            "text/plain": [
              "[<matplotlib.lines.Line2D at 0x7fc5a4276470>]"
            ]
          },
          "execution_count": 34,
          "metadata": {},
          "output_type": "execute_result"
        },
        {
          "data": {
            "image/png": "[encoded data removed]",
            "text/plain": [
              "<Figure size 640x480 with 1 Axes>"
            ]
          },
          "metadata": {},
          "output_type": "display_data"
        }
      ],
      "source": [
        "plt.plot(train_losses)\n",
        "plt.plot(val_losses)"
      ]
    }
  ],
  "metadata": {
    "accelerator": "GPU",
    "colab": {
      "provenance": []
    },
    "gpuClass": "standard",
    "kernelspec": {
      "display_name": "Python 3",
      "language": "python",
      "name": "python3"
    },
    "language_info": {
      "codemirror_mode": {
        "name": "ipython",
        "version": 3
      },
      "file_extension": ".py",
      "mimetype": "text/x-python",
      "name": "python",
      "nbconvert_exporter": "python",
      "pygments_lexer": "ipython3",
      "version": "3.10.6"
    },
    "vscode": {
      "interpreter": {
        "hash": "916dbcbb3f70747c44a77c7bcd40155683ae19c65e1c03b4aa3499c5328201f1"
      }
    }
  },
  "nbformat": 4,
  "nbformat_minor": 0
}
