{
  "nbformat": 4,
  "nbformat_minor": 0,
  "metadata": {
    "colab": {
      "provenance": []
    },
    "kernelspec": {
      "name": "python3",
      "display_name": "Python 3"
    },
    "language_info": {
      "name": "python"
    },
    "accelerator": "GPU",
    "gpuClass": "standard"
  },
  "cells": [
    {
      "cell_type": "code",
      "execution_count": null,
      "metadata": {
        "id": "pM_5UK-Cv_sh"
      },
      "outputs": [],
      "source": [
        "import torch, torchvision\n",
        "from torchvision.models import resnet50, ResNet50_Weights"
      ]
    },
    {
      "cell_type": "code",
      "source": [
        "resnet = resnet50(weights=ResNet50_Weights.DEFAULT).cuda()"
      ],
      "metadata": {
        "id": "eEKUY2oUwIPu"
      },
      "execution_count": null,
      "outputs": []
    },
    {
      "cell_type": "code",
      "source": [
        "from google.colab import drive\n",
        "drive.mount('/content/gdrive/')"
      ],
      "metadata": {
        "colab": {
          "base_uri": "https://localhost:8080/"
        },
        "id": "qEzCYX5vw1l5",
        "outputId": "92946c3f-92d2-4e1c-b5bb-9aa04b325410"
      },
      "execution_count": null,
      "outputs": [
        {
          "output_type": "stream",
          "name": "stdout",
          "text": [
            "Mounted at /content/gdrive/\n"
          ]
        }
      ]
    },
    {
      "cell_type": "code",
      "source": [
        "!ls"
      ],
      "metadata": {
        "colab": {
          "base_uri": "https://localhost:8080/"
        },
        "id": "MIjkKmH1w1cU",
        "outputId": "6d9ea709-ff8f-44cd-9bb9-2cbedf2ffc6a"
      },
      "execution_count": null,
      "outputs": [
        {
          "output_type": "stream",
          "name": "stdout",
          "text": [
            "gdrive\tsample_data\n"
          ]
        }
      ]
    },
    {
      "cell_type": "code",
      "source": [
        "from torchvision import transforms\n",
        "transform = transforms.Compose([\n",
        "    transforms.ToTensor(),\n",
        "    transforms.CenterCrop(10),\n",
        "    transforms.Normalize((0.485, 0.456, 0.406), (0.229, 0.224, 0.225))\n",
        "    ]\n",
        ")"
      ],
      "metadata": {
        "id": "R6sFBx_ZxAbT"
      },
      "execution_count": null,
      "outputs": []
    },
    {
      "cell_type": "code",
      "source": [
        "cifar = torchvision.datasets.CIFAR10(\"test_data\", download=True, transform=transform)"
      ],
      "metadata": {
        "colab": {
          "base_uri": "https://localhost:8080/"
        },
        "id": "9Og9wR9jwYF7",
        "outputId": "f12ca9a6-884d-4e57-b3e8-fbc81667270c"
      },
      "execution_count": null,
      "outputs": [
        {
          "output_type": "stream",
          "name": "stdout",
          "text": [
            "Files already downloaded and verified\n"
          ]
        }
      ]
    },
    {
      "cell_type": "code",
      "source": [
        "data_loader = torch.utils.data.DataLoader(cifar,\n",
        "                                          batch_size=4,\n",
        "                                          shuffle=True,\n",
        "                                          num_workers=1)"
      ],
      "metadata": {
        "id": "xFJe_9y9xXBq"
      },
      "execution_count": null,
      "outputs": []
    },
    {
      "cell_type": "code",
      "source": [
        "import tqdm\n",
        "optimizer = torch.optim.Adam(resnet.parameters())\n",
        "crit = torch.nn.CrossEntropyLoss()\n",
        "for epoch in range(10):\n",
        "  tq = tqdm.tqdm(data_loader)\n",
        "  for i in tq:\n",
        "    losses = []\n",
        "    data, gt = [x.cuda() for x in i]\n",
        "    with torch.enable_grad():\n",
        "      optimizer.zero_grad()\n",
        "      pred = resnet(data)\n",
        "      loss = crit(pred, gt)\n",
        "      losses.append(loss)\n",
        "      loss.backward()\n",
        "      optimizer.step()\n",
        "\n",
        "      tq.set_description(\"epoch loss: \" + str(torch.mean(torch.tensor(losses))))"
      ],
      "metadata": {
        "colab": {
          "base_uri": "https://localhost:8080/"
        },
        "id": "2J9vm3xYxeMe",
        "outputId": "70f29187-1b39-442d-bde6-2fe6cbd84f6b"
      },
      "execution_count": null,
      "outputs": [
        {
          "output_type": "stream",
          "name": "stderr",
          "text": [
            "epoch loss: tensor(2.2799): 100%|██████████| 12500/12500 [10:25<00:00, 19.99it/s]\n",
            "epoch loss: tensor(2.1184):  11%|█         | 1329/12500 [01:06<08:28, 21.96it/s]"
          ]
        }
      ]
    },
    {
      "cell_type": "code",
      "source": [],
      "metadata": {
        "id": "-KuNlzW8xgrF"
      },
      "execution_count": null,
      "outputs": []
    }
  ]
}