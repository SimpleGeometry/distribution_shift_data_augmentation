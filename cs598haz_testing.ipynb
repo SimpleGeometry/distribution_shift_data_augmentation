{
  "cells": [
    {
      "cell_type": "code",
      "execution_count": 68,
      "metadata": {
        "id": "pM_5UK-Cv_sh"
      },
      "outputs": [],
      "source": [
        "import torch, torchvision\n",
        "from torch.utils.data import Subset\n",
        "import torchvision.models as models\n",
        "from torchvision import transforms\n",
        "import tqdm\n",
        "import matplotlib.pyplot as plt\n",
        "import numpy as np\n",
        "import os\n",
        "import pathlib"
      ]
    },
    {
      "cell_type": "markdown",
      "source": [
        "# Configure Experiment"
      ],
      "metadata": {
        "id": "ERhDE0h_VfkB"
      }
    },
    {
      "cell_type": "code",
      "source": [
        "config = {\n",
        "    'experiment_name': 'identity',\n",
        "    'lr': 0.01,\n",
        "    'batch_size': 64,\n",
        "    'epochs':10,\n",
        "    'val_epochs': 2,\n",
        "    'cpt_epochs': [3,6,9],\n",
        "    'freeze_layers':False\n",
        "}"
      ],
      "metadata": {
        "id": "RRRjT_y3GR4B"
      },
      "execution_count": 101,
      "outputs": []
    },
    {
      "cell_type": "code",
      "source": [
        "no_augment = []\n",
        "crop_augment = [transforms.CenterCrop(10)]\n",
        "\n",
        "identity_augment = [\n",
        "    transforms.ToTensor(),\n",
        "    transforms.Normalize((0.485, 0.456, 0.406), (0.229, 0.224, 0.225))]\n",
        "\n",
        "# Change to augment_XYZ + identity_augment\n",
        "augmentation = transforms.Compose(no_augment + identity_augment)"
      ],
      "metadata": {
        "id": "HvjFg-6lX3pw"
      },
      "execution_count": null,
      "outputs": []
    },
    {
      "cell_type": "markdown",
      "source": [
        "# Initialize model and load data"
      ],
      "metadata": {
        "id": "J-QwTyLTVpuF"
      }
    },
    {
      "cell_type": "code",
      "source": [
        "# Make directories to save stuff\n",
        "pathlib.Path('cpts').mkdir(exist_ok=True) \n",
        "pathlib.Path('plots').mkdir(exist_ok=True) \n",
        "pathlib.Path('preds').mkdir(exist_ok=True) "
      ],
      "metadata": {
        "id": "dRhbohSkVuEj"
      },
      "execution_count": 71,
      "outputs": []
    },
    {
      "cell_type": "code",
      "execution_count": 57,
      "metadata": {
        "id": "QAGaDbk6Dtrq"
      },
      "outputs": [],
      "source": [
        "device = 'cuda' if torch.cuda.is_available() else 'cpu'\n",
        "assert(device=='cuda')"
      ]
    },
    {
      "cell_type": "code",
      "execution_count": 58,
      "metadata": {
        "id": "eEKUY2oUwIPu"
      },
      "outputs": [],
      "source": [
        "model = models.resnet18(weights=models.ResNet18_Weights.DEFAULT)\n",
        "model.to(device)"
      ]
    },
    {
      "cell_type": "code",
      "execution_count": 102,
      "metadata": {
        "id": "XheDH1fBDtrs"
      },
      "outputs": [],
      "source": [
        "if config['freeze_layers']:\n",
        "    for param in model.parameters():\n",
        "        param.requires_grad = False\n",
        "    for param in model.fc.parameters():\n",
        "        param.requires_grad = True\n",
        "    # for param in model.layer4.parameters():\n",
        "    #     param.requires_grad = True"
      ]
    },
    {
      "cell_type": "code",
      "execution_count": 62,
      "metadata": {
        "colab": {
          "base_uri": "https://localhost:8080/"
        },
        "id": "9Og9wR9jwYF7",
        "outputId": "721fffeb-87ae-4f8e-ebba-7781eb9487da"
      },
      "outputs": [
        {
          "output_type": "stream",
          "name": "stdout",
          "text": [
            "Files already downloaded and verified\n",
            "Files already downloaded and verified\n"
          ]
        },
        {
          "output_type": "execute_result",
          "data": {
            "text/plain": [
              "(50000, 10000)"
            ]
          },
          "metadata": {},
          "execution_count": 62
        }
      ],
      "source": [
        "cifar_train = torchvision.datasets.CIFAR10(\"CIFAR_train\", train=True, download=True, transform=augmentation)\n",
        "cifar_test = torchvision.datasets.CIFAR10(\"CIFAR_test\", train=False, download=True, transform=transforms.Compose(identity_augment))\n",
        "len(cifar_train), len(cifar_test)"
      ]
    },
    {
      "cell_type": "code",
      "execution_count": 63,
      "metadata": {
        "id": "xFJe_9y9xXBq"
      },
      "outputs": [],
      "source": [
        "trainloader = torch.utils.data.DataLoader(cifar_train,\n",
        "                                          batch_size=config['batch_size'],\n",
        "                                          shuffle=False,\n",
        "                                          num_workers=1)\n",
        "testloader = torch.utils.data.DataLoader(cifar_test,\n",
        "                                          batch_size=config['batch_size'],\n",
        "                                          shuffle=False,\n",
        "                                          num_workers=1)    "
      ]
    },
    {
      "cell_type": "markdown",
      "source": [
        "# Training"
      ],
      "metadata": {
        "id": "VmJCVbBMVjxx"
      }
    },
    {
      "cell_type": "code",
      "execution_count": 85,
      "metadata": {
        "colab": {
          "base_uri": "https://localhost:8080/",
          "height": 575
        },
        "id": "2J9vm3xYxeMe",
        "outputId": "ed565fa9-582b-493e-9423-b8bbb2250789"
      },
      "outputs": [
        {
          "output_type": "stream",
          "name": "stderr",
          "text": [
            "100%|██████████| 782/782 [00:28<00:00, 27.06it/s]\n"
          ]
        },
        {
          "output_type": "stream",
          "name": "stdout",
          "text": [
            "Train loss: 0.9460272192955017 Val loss: 0.9962000846862793\n"
          ]
        },
        {
          "output_type": "stream",
          "name": "stderr",
          "text": [
            "100%|██████████| 782/782 [00:29<00:00, 26.73it/s]\n"
          ]
        },
        {
          "output_type": "stream",
          "name": "stdout",
          "text": [
            "Train loss: 0.8067780137062073 Val loss: 0.9962000846862793\n"
          ]
        },
        {
          "output_type": "stream",
          "name": "stderr",
          "text": [
            "100%|██████████| 782/782 [00:28<00:00, 27.01it/s]\n"
          ]
        },
        {
          "output_type": "stream",
          "name": "stdout",
          "text": [
            "Train loss: 0.7229468822479248 Val loss: 0.8369650840759277\n"
          ]
        },
        {
          "output_type": "stream",
          "name": "stderr",
          "text": [
            "100%|██████████| 782/782 [00:28<00:00, 27.12it/s]\n"
          ]
        },
        {
          "output_type": "stream",
          "name": "stdout",
          "text": [
            "Train loss: 0.6465048789978027 Val loss: 0.8369650840759277\n"
          ]
        },
        {
          "output_type": "stream",
          "name": "stderr",
          "text": [
            " 60%|█████▉    | 468/782 [00:17<00:11, 26.94it/s]\n"
          ]
        },
        {
          "output_type": "error",
          "ename": "KeyboardInterrupt",
          "evalue": "ignored",
          "traceback": [
            "\u001b[0;31m---------------------------------------------------------------------------\u001b[0m",
            "\u001b[0;31mKeyboardInterrupt\u001b[0m                         Traceback (most recent call last)",
            "\u001b[0;32m<ipython-input-85-0f44774d98a6>\u001b[0m in \u001b[0;36m<module>\u001b[0;34m\u001b[0m\n\u001b[1;32m     20\u001b[0m \u001b[0;34m\u001b[0m\u001b[0m\n\u001b[1;32m     21\u001b[0m       \u001b[0moptimizer\u001b[0m\u001b[0;34m.\u001b[0m\u001b[0mzero_grad\u001b[0m\u001b[0;34m(\u001b[0m\u001b[0;34m)\u001b[0m\u001b[0;34m\u001b[0m\u001b[0;34m\u001b[0m\u001b[0m\n\u001b[0;32m---> 22\u001b[0;31m       \u001b[0mloss\u001b[0m\u001b[0;34m.\u001b[0m\u001b[0mbackward\u001b[0m\u001b[0;34m(\u001b[0m\u001b[0;34m)\u001b[0m\u001b[0;34m\u001b[0m\u001b[0;34m\u001b[0m\u001b[0m\n\u001b[0m\u001b[1;32m     23\u001b[0m       \u001b[0moptimizer\u001b[0m\u001b[0;34m.\u001b[0m\u001b[0mstep\u001b[0m\u001b[0;34m(\u001b[0m\u001b[0;34m)\u001b[0m\u001b[0;34m\u001b[0m\u001b[0;34m\u001b[0m\u001b[0m\n\u001b[1;32m     24\u001b[0m \u001b[0;34m\u001b[0m\u001b[0m\n",
            "\u001b[0;32m/usr/local/lib/python3.9/dist-packages/torch/_tensor.py\u001b[0m in \u001b[0;36mbackward\u001b[0;34m(self, gradient, retain_graph, create_graph, inputs)\u001b[0m\n\u001b[1;32m    486\u001b[0m                 \u001b[0minputs\u001b[0m\u001b[0;34m=\u001b[0m\u001b[0minputs\u001b[0m\u001b[0;34m,\u001b[0m\u001b[0;34m\u001b[0m\u001b[0;34m\u001b[0m\u001b[0m\n\u001b[1;32m    487\u001b[0m             )\n\u001b[0;32m--> 488\u001b[0;31m         torch.autograd.backward(\n\u001b[0m\u001b[1;32m    489\u001b[0m             \u001b[0mself\u001b[0m\u001b[0;34m,\u001b[0m \u001b[0mgradient\u001b[0m\u001b[0;34m,\u001b[0m \u001b[0mretain_graph\u001b[0m\u001b[0;34m,\u001b[0m \u001b[0mcreate_graph\u001b[0m\u001b[0;34m,\u001b[0m \u001b[0minputs\u001b[0m\u001b[0;34m=\u001b[0m\u001b[0minputs\u001b[0m\u001b[0;34m\u001b[0m\u001b[0;34m\u001b[0m\u001b[0m\n\u001b[1;32m    490\u001b[0m         )\n",
            "\u001b[0;32m/usr/local/lib/python3.9/dist-packages/torch/autograd/__init__.py\u001b[0m in \u001b[0;36mbackward\u001b[0;34m(tensors, grad_tensors, retain_graph, create_graph, grad_variables, inputs)\u001b[0m\n\u001b[1;32m    195\u001b[0m     \u001b[0;31m# some Python versions print out the first line of a multi-line function\u001b[0m\u001b[0;34m\u001b[0m\u001b[0;34m\u001b[0m\u001b[0m\n\u001b[1;32m    196\u001b[0m     \u001b[0;31m# calls in the traceback and some print out the last line\u001b[0m\u001b[0;34m\u001b[0m\u001b[0;34m\u001b[0m\u001b[0m\n\u001b[0;32m--> 197\u001b[0;31m     Variable._execution_engine.run_backward(  # Calls into the C++ engine to run the backward pass\n\u001b[0m\u001b[1;32m    198\u001b[0m         \u001b[0mtensors\u001b[0m\u001b[0;34m,\u001b[0m \u001b[0mgrad_tensors_\u001b[0m\u001b[0;34m,\u001b[0m \u001b[0mretain_graph\u001b[0m\u001b[0;34m,\u001b[0m \u001b[0mcreate_graph\u001b[0m\u001b[0;34m,\u001b[0m \u001b[0minputs\u001b[0m\u001b[0;34m,\u001b[0m\u001b[0;34m\u001b[0m\u001b[0;34m\u001b[0m\u001b[0m\n\u001b[1;32m    199\u001b[0m         allow_unreachable=True, accumulate_grad=True)  # Calls into the C++ engine to run the backward pass\n",
            "\u001b[0;31mKeyboardInterrupt\u001b[0m: "
          ]
        }
      ],
      "source": [
        "optimizer = torch.optim.Adam(model.parameters(),lr=config['lr'])\n",
        "crit = torch.nn.CrossEntropyLoss()\n",
        "train_losses = []\n",
        "val_losses = []\n",
        "\n",
        "for epoch in range(config['epochs']):\n",
        "  tq = tqdm.tqdm(trainloader)\n",
        "  \n",
        "  train_loss_sum = 0\n",
        "\n",
        "  val_loss_sum = 0\n",
        "\n",
        "\n",
        "  for (data, gt) in tq:\n",
        "    data = data.to(device)\n",
        "    gt = gt.to(device)\n",
        "    with torch.enable_grad():\n",
        "      pred = model(data)\n",
        "      loss = crit(pred, gt)\n",
        "\n",
        "      optimizer.zero_grad()\n",
        "      loss.backward()\n",
        "      optimizer.step()\n",
        "\n",
        "      train_loss_sum += loss\n",
        "\n",
        "  \n",
        "  # val\n",
        "  if epoch % config['val_epochs'] == 0:\n",
        "    for (data,gt) in testloader:\n",
        "      data = data.to(device)\n",
        "      gt = gt.to(device)\n",
        "      pred = model(data)\n",
        "      loss = crit(pred,gt)\n",
        "      val_loss_sum+=loss\n",
        "      \n",
        "    val_loss_avg = val_loss_sum / len(testloader)\n",
        "    val_losses.append(val_loss_avg.item())\n",
        "\n",
        "  if epoch in config['cpt_epochs']:\n",
        "    torch.save(model.state_dict(), f\"cpts/{config['experiment_name']}-ep{epoch}\")\n",
        "\n",
        "  train_loss_avg = train_loss_sum / len(trainloader)\n",
        "  train_losses.append(train_loss_avg.item())\n",
        "  print(f\"Train loss: {train_loss_avg} Val loss: {val_loss_avg}\")"
      ]
    },
    {
      "cell_type": "code",
      "execution_count": 83,
      "metadata": {
        "id": "-KuNlzW8xgrF",
        "colab": {
          "base_uri": "https://localhost:8080/",
          "height": 268
        },
        "outputId": "17b58afc-2aa2-4de6-de50-5bcf7fec0d6f"
      },
      "outputs": [
        {
          "output_type": "display_data",
          "data": {
            "text/plain": [
              "<Figure size 432x288 with 1 Axes>"
            ],
            "image/png": "[encoded data removed]"
          },
          "metadata": {
            "needs_background": "light"
          }
        }
      ],
      "source": [
        "fig1 = plt.gcf()\n",
        "plt.plot(train_losses, label='train loss')\n",
        "plt.plot(np.arange(0,config['val_epochs']*len(val_losses),config['val_epochs']),val_losses, label='val_loss')\n",
        "plt.legend()\n",
        "fig1.show()"
      ]
    },
    {
      "cell_type": "code",
      "source": [
        "preds = []\n",
        "gts = []\n",
        "for (X,y) in tqdm.tqdm(testloader):\n",
        "  X = X.to(device)\n",
        "  yhat = model(X).argmax(axis=1).tolist()\n",
        "  preds += yhat\n",
        "  gts += y.tolist()\n",
        "preds = np.array(preds)\n",
        "gts = np.array(gts)"
      ],
      "metadata": {
        "colab": {
          "base_uri": "https://localhost:8080/"
        },
        "id": "HZUSPhkXMKZb",
        "outputId": "2bd475d4-da12-4aff-e797-320a2df2ef4d"
      },
      "execution_count": null,
      "outputs": [
        {
          "output_type": "stream",
          "name": "stderr",
          "text": [
            "100%|██████████| 157/157 [00:04<00:00, 38.25it/s]\n"
          ]
        }
      ]
    },
    {
      "cell_type": "code",
      "source": [
        "(preds==gts).mean()"
      ],
      "metadata": {
        "id": "1Pp8R2LzN9Ez",
        "colab": {
          "base_uri": "https://localhost:8080/"
        },
        "outputId": "b6d5741f-8087-43a4-e062-0faf5abf7887"
      },
      "execution_count": 88,
      "outputs": [
        {
          "output_type": "execute_result",
          "data": {
            "text/plain": [
              "0.7348"
            ]
          },
          "metadata": {},
          "execution_count": 88
        }
      ]
    },
    {
      "cell_type": "markdown",
      "source": [
        "## Save plots and predictions"
      ],
      "metadata": {
        "id": "bJk_EDJXWW_l"
      }
    },
    {
      "cell_type": "code",
      "source": [
        "with open(f\"preds/{config['experiment_name']}.npy\",'wb') as outfile:\n",
        "  np.save(outfile,preds)"
      ],
      "metadata": {
        "id": "r8MyRPrRO5Ys"
      },
      "execution_count": 94,
      "outputs": []
    },
    {
      "cell_type": "code",
      "source": [
        "fig1.savefig(f\"plots/{config['experiment_name']}.jpg\")"
      ],
      "metadata": {
        "id": "iI7U9za1U7Su"
      },
      "execution_count": 84,
      "outputs": []
    },
    {
      "cell_type": "code",
      "source": [],
      "metadata": {
        "id": "qTmwRcphYbao"
      },
      "execution_count": null,
      "outputs": []
    }
  ],
  "metadata": {
    "accelerator": "GPU",
    "colab": {
      "provenance": []
    },
    "gpuClass": "standard",
    "kernelspec": {
      "display_name": "Python 3 (ipykernel)",
      "language": "python",
      "name": "python3"
    },
    "language_info": {
      "codemirror_mode": {
        "name": "ipython",
        "version": 3
      },
      "file_extension": ".py",
      "mimetype": "text/x-python",
      "name": "python",
      "nbconvert_exporter": "python",
      "pygments_lexer": "ipython3",
      "version": "3.10.6"
    },
    "vscode": {
      "interpreter": {
        "hash": "916dbcbb3f70747c44a77c7bcd40155683ae19c65e1c03b4aa3499c5328201f1"
      }
    }
  },
  "nbformat": 4,
  "nbformat_minor": 0
}
