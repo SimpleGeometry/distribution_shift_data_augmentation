{
  "cells": [
    {
      "cell_type": "code",
      "execution_count": 1,
      "metadata": {
        "id": "pM_5UK-Cv_sh"
      },
      "outputs": [],
      "source": [
        "import torch, torchvision\n",
        "from torch.utils.data import Subset\n",
        "import torchvision.models as models\n",
        "from torchvision import transforms as T\n",
        "import tqdm\n",
        "import matplotlib.pyplot as plt\n",
        "import numpy as np\n",
        "import os\n",
        "import pathlib"
      ]
    },
    {
      "cell_type": "code",
      "source": [
        "from google.colab import drive\n",
        "drive.mount('/content/drive')\n",
        "base_dir = \"/content/drive/MyDrive/transfer_results/\""
      ],
      "metadata": {
        "colab": {
          "base_uri": "https://localhost:8080/"
        },
        "id": "xNaibqO-5qKK",
        "outputId": "764cde19-a345-41aa-a767-b6a2e3f8e79c"
      },
      "execution_count": 2,
      "outputs": [
        {
          "output_type": "stream",
          "name": "stdout",
          "text": [
            "Mounted at /content/drive\n"
          ]
        }
      ]
    },
    {
      "cell_type": "markdown",
      "metadata": {
        "id": "ERhDE0h_VfkB"
      },
      "source": [
        "# Configure Experiment"
      ]
    },
    {
      "cell_type": "code",
      "execution_count": 85,
      "metadata": {
        "id": "RRRjT_y3GR4B"
      },
      "outputs": [],
      "source": [
        "config = {\n",
        "    'experiment_name': 'bright_sat',\n",
        "    'lr': 0.01,\n",
        "    'batch_size': 64,\n",
        "    'epochs':10,\n",
        "    'val_epochs': 2,\n",
        "    'cpt_epochs': [3,6,9],\n",
        "    'freeze_layers':False\n",
        "}"
      ]
    },
    {
      "cell_type": "code",
      "execution_count": 95,
      "metadata": {
        "id": "HvjFg-6lX3pw"
      },
      "outputs": [],
      "source": [
        "no_augment = []\n",
        "identity_augment = [T.ToTensor(),T.Normalize((0.485, 0.456, 0.406), (0.229, 0.224, 0.225))]\n",
        "\n",
        "crop_augment = [T.CenterCrop(20)]\n",
        "blur_augment = [T.GaussianBlur(kernel_size=(3,3))]\n",
        "flip_augment = [T.RandomHorizontalFlip(p=0.5)]\n",
        "rotate_augment = [T.RandomAffine(degrees=(-45,45))]\n",
        "trans_scale_augment = [T.RandomAffine(degrees = 0, scale=(0.8,1.2), translate=(0.2,0.2))]\n",
        "gray_augment = [T.RandomGrayscale(0.2)]\n",
        "bright_sat_augment = [T.ColorJitter(brightness=0.5,saturation=0.5)]\n",
        "\n",
        "\n",
        "\n",
        "\n",
        "selected_augment = bright_sat_augment # Change augment here\n",
        "\n",
        "\n",
        "augmentation = T.Compose(selected_augment + identity_augment)"
      ]
    },
    {
      "cell_type": "markdown",
      "metadata": {
        "id": "J-QwTyLTVpuF"
      },
      "source": [
        "# Initialize model and load data"
      ]
    },
    {
      "cell_type": "code",
      "execution_count": 87,
      "metadata": {
        "id": "dRhbohSkVuEj"
      },
      "outputs": [],
      "source": [
        "# Make directories to save stuff\n",
        "pathlib.Path(f'{base_dir}cpts').mkdir(exist_ok=True) \n",
        "pathlib.Path(f'{base_dir}plots').mkdir(exist_ok=True) \n",
        "pathlib.Path(f'{base_dir}preds').mkdir(exist_ok=True) "
      ]
    },
    {
      "cell_type": "code",
      "execution_count": 88,
      "metadata": {
        "id": "QAGaDbk6Dtrq"
      },
      "outputs": [],
      "source": [
        "device = 'cuda' if torch.cuda.is_available() else 'cpu'\n",
        "assert(device=='cuda')"
      ]
    },
    {
      "cell_type": "code",
      "execution_count": 89,
      "metadata": {
        "id": "eEKUY2oUwIPu"
      },
      "outputs": [],
      "source": [
        "model = models.resnet18(weights=models.ResNet18_Weights.DEFAULT)\n",
        "model.to(device)\n",
        "None"
      ]
    },
    {
      "cell_type": "code",
      "execution_count": 90,
      "metadata": {
        "id": "XheDH1fBDtrs"
      },
      "outputs": [],
      "source": [
        "if config['freeze_layers']:\n",
        "    for param in model.parameters():\n",
        "        param.requires_grad = False\n",
        "    for param in model.fc.parameters():\n",
        "        param.requires_grad = True\n",
        "    # for param in model.layer4.parameters():\n",
        "    #     param.requires_grad = True"
      ]
    },
    {
      "cell_type": "code",
      "execution_count": 91,
      "metadata": {
        "colab": {
          "base_uri": "https://localhost:8080/"
        },
        "id": "9Og9wR9jwYF7",
        "outputId": "f9a11f57-617d-46f8-8751-5f4d73910007"
      },
      "outputs": [
        {
          "output_type": "stream",
          "name": "stdout",
          "text": [
            "Files already downloaded and verified\n",
            "Files already downloaded and verified\n"
          ]
        },
        {
          "output_type": "execute_result",
          "data": {
            "text/plain": [
              "(50000, 10000)"
            ]
          },
          "metadata": {},
          "execution_count": 91
        }
      ],
      "source": [
        "cifar_train = torchvision.datasets.CIFAR10(\"CIFAR_train\", train=True, download=True, transform=augmentation)\n",
        "cifar_test = torchvision.datasets.CIFAR10(\"CIFAR_test\", train=False, download=True, transform=T.Compose(identity_augment))\n",
        "cifar_debug = torchvision.datasets.CIFAR10(\"CIFAR_test\", train=False)\n",
        "len(cifar_train), len(cifar_test)"
      ]
    },
    {
      "cell_type": "code",
      "execution_count": 92,
      "metadata": {
        "id": "xFJe_9y9xXBq"
      },
      "outputs": [],
      "source": [
        "trainloader = torch.utils.data.DataLoader(cifar_train,\n",
        "                                          batch_size=config['batch_size'],\n",
        "                                          shuffle=False,\n",
        "                                          num_workers=1)\n",
        "testloader = torch.utils.data.DataLoader(cifar_test,\n",
        "                                          batch_size=config['batch_size'],\n",
        "                                          shuffle=False,\n",
        "                                          num_workers=1)    "
      ]
    },
    {
      "cell_type": "code",
      "source": [
        "#Visualize\n",
        "image, label = cifar_debug[20]\n",
        "invTrans = T.Compose([ T.Normalize(mean = [ 0., 0., 0. ],\n",
        "                                                     std = [ 1/0.229, 1/0.224, 1/0.225 ]),\n",
        "                                T.Normalize(mean = [ -0.485, -0.456, -0.406 ],\n",
        "                                                     std = [ 1., 1., 1. ]),\n",
        "                               T.ToPILImage()\n",
        "                               ])\n",
        "plt.figure()\n",
        "plt.imshow(image)\n",
        "\n",
        "plt.figure()\n",
        "plt.imshow(invTrans(augmentation(image)))\n",
        "print(label)"
      ],
      "metadata": {
        "colab": {
          "base_uri": "https://localhost:8080/",
          "height": 533
        },
        "id": "ohHJ1sC85VPL",
        "outputId": "b929322f-ecea-4822-c9a1-15c486d7fe2d"
      },
      "execution_count": 97,
      "outputs": [
        {
          "output_type": "stream",
          "name": "stdout",
          "text": [
            "7\n"
          ]
        },
        {
          "output_type": "display_data",
          "data": {
            "text/plain": [
              "<Figure size 432x288 with 1 Axes>"
            ],
            "image/png": "[encoded data removed]"
          },
          "metadata": {
            "needs_background": "light"
          }
        },
        {
          "output_type": "display_data",
          "data": {
            "text/plain": [
              "<Figure size 432x288 with 1 Axes>"
            ],
            "image/png": "[encoded data removed]"
          },
          "metadata": {
            "needs_background": "light"
          }
        }
      ]
    },
    {
      "cell_type": "markdown",
      "metadata": {
        "id": "VmJCVbBMVjxx"
      },
      "source": [
        "# Training"
      ]
    },
    {
      "cell_type": "code",
      "execution_count": 98,
      "metadata": {
        "colab": {
          "base_uri": "https://localhost:8080/"
        },
        "id": "2J9vm3xYxeMe",
        "outputId": "145b71ac-c5db-401a-a40d-30b5312e1afe"
      },
      "outputs": [
        {
          "output_type": "stream",
          "name": "stderr",
          "text": [
            "100%|██████████| 782/782 [00:41<00:00, 18.97it/s]\n"
          ]
        },
        {
          "output_type": "stream",
          "name": "stdout",
          "text": [
            "Ep 0 Train loss: 1.692634105682373 Val loss: 1.4290896654129028\n"
          ]
        },
        {
          "output_type": "stream",
          "name": "stderr",
          "text": [
            "100%|██████████| 782/782 [00:40<00:00, 19.20it/s]\n"
          ]
        },
        {
          "output_type": "stream",
          "name": "stdout",
          "text": [
            "Ep 1 Train loss: 1.2936221361160278 Val loss: 1.4290896654129028\n"
          ]
        },
        {
          "output_type": "stream",
          "name": "stderr",
          "text": [
            "100%|██████████| 782/782 [00:41<00:00, 18.85it/s]\n"
          ]
        },
        {
          "output_type": "stream",
          "name": "stdout",
          "text": [
            "Ep 2 Train loss: 1.0824896097183228 Val loss: 0.999483048915863\n"
          ]
        },
        {
          "output_type": "stream",
          "name": "stderr",
          "text": [
            "100%|██████████| 782/782 [00:40<00:00, 19.48it/s]\n"
          ]
        },
        {
          "output_type": "stream",
          "name": "stdout",
          "text": [
            "Ep 3 Train loss: 0.9656001925468445 Val loss: 0.999483048915863\n"
          ]
        },
        {
          "output_type": "stream",
          "name": "stderr",
          "text": [
            "100%|██████████| 782/782 [00:40<00:00, 19.18it/s]\n"
          ]
        },
        {
          "output_type": "stream",
          "name": "stdout",
          "text": [
            "Ep 4 Train loss: 0.9270113110542297 Val loss: 0.9363728165626526\n"
          ]
        },
        {
          "output_type": "stream",
          "name": "stderr",
          "text": [
            "100%|██████████| 782/782 [00:38<00:00, 20.11it/s]\n"
          ]
        },
        {
          "output_type": "stream",
          "name": "stdout",
          "text": [
            "Ep 5 Train loss: 0.7978445291519165 Val loss: 0.9363728165626526\n"
          ]
        },
        {
          "output_type": "stream",
          "name": "stderr",
          "text": [
            "100%|██████████| 782/782 [00:39<00:00, 19.74it/s]\n"
          ]
        },
        {
          "output_type": "stream",
          "name": "stdout",
          "text": [
            "Ep 6 Train loss: 0.7245683670043945 Val loss: 0.8890470266342163\n"
          ]
        },
        {
          "output_type": "stream",
          "name": "stderr",
          "text": [
            "100%|██████████| 782/782 [00:39<00:00, 19.63it/s]\n"
          ]
        },
        {
          "output_type": "stream",
          "name": "stdout",
          "text": [
            "Ep 7 Train loss: 0.6662673950195312 Val loss: 0.8890470266342163\n"
          ]
        },
        {
          "output_type": "stream",
          "name": "stderr",
          "text": [
            "100%|██████████| 782/782 [00:39<00:00, 19.69it/s]\n"
          ]
        },
        {
          "output_type": "stream",
          "name": "stdout",
          "text": [
            "Ep 8 Train loss: 0.6044341325759888 Val loss: 0.9011979699134827\n"
          ]
        },
        {
          "output_type": "stream",
          "name": "stderr",
          "text": [
            "100%|██████████| 782/782 [00:39<00:00, 20.01it/s]\n"
          ]
        },
        {
          "output_type": "stream",
          "name": "stdout",
          "text": [
            "Ep 9 Train loss: 0.5459122061729431 Val loss: 0.9011979699134827\n"
          ]
        }
      ],
      "source": [
        "optimizer = torch.optim.Adam(model.parameters(),lr=config['lr'])\n",
        "crit = torch.nn.CrossEntropyLoss()\n",
        "train_losses = []\n",
        "val_losses = []\n",
        "\n",
        "for epoch in range(config['epochs']):\n",
        "  tq = tqdm.tqdm(trainloader)\n",
        "  \n",
        "  train_loss_sum = 0\n",
        "\n",
        "  val_loss_sum = 0\n",
        "\n",
        "\n",
        "  for (data, gt) in tq:\n",
        "    data = data.to(device)\n",
        "    gt = gt.to(device)\n",
        "    with torch.enable_grad():\n",
        "      pred = model(data)\n",
        "      loss = crit(pred, gt)\n",
        "\n",
        "      optimizer.zero_grad()\n",
        "      loss.backward()\n",
        "      optimizer.step()\n",
        "\n",
        "      train_loss_sum += loss\n",
        "\n",
        "  \n",
        "  # val\n",
        "  if epoch % config['val_epochs'] == 0:\n",
        "    for (data,gt) in testloader:\n",
        "      data = data.to(device)\n",
        "      gt = gt.to(device)\n",
        "      pred = model(data)\n",
        "      loss = crit(pred,gt)\n",
        "      val_loss_sum+=loss\n",
        "      \n",
        "    val_loss_avg = val_loss_sum / len(testloader)\n",
        "    val_losses.append(val_loss_avg.item())\n",
        "\n",
        "  if epoch in config['cpt_epochs']:\n",
        "    torch.save(model.state_dict(), f\"{base_dir}cpts/{config['experiment_name']}-ep{epoch}\")\n",
        "\n",
        "  train_loss_avg = train_loss_sum / len(trainloader)\n",
        "  train_losses.append(train_loss_avg.item())\n",
        "  print(f\"Ep {epoch} Train loss: {train_loss_avg} Val loss: {val_loss_avg}\")"
      ]
    },
    {
      "cell_type": "code",
      "execution_count": 99,
      "metadata": {
        "colab": {
          "base_uri": "https://localhost:8080/",
          "height": 265
        },
        "id": "-KuNlzW8xgrF",
        "outputId": "87bdac3b-5581-4696-c832-6b006bda9c46"
      },
      "outputs": [
        {
          "output_type": "display_data",
          "data": {
            "text/plain": [
              "<Figure size 432x288 with 1 Axes>"
            ],
            "image/png": "[encoded data removed]"
          },
          "metadata": {
            "needs_background": "light"
          }
        }
      ],
      "source": [
        "fig1 = plt.gcf()\n",
        "plt.plot(train_losses, label='train loss')\n",
        "plt.plot(np.arange(0,config['val_epochs']*len(val_losses),config['val_epochs']),val_losses, label='val_loss')\n",
        "plt.legend()\n",
        "fig1.show()"
      ]
    },
    {
      "cell_type": "code",
      "execution_count": 100,
      "metadata": {
        "colab": {
          "base_uri": "https://localhost:8080/"
        },
        "id": "HZUSPhkXMKZb",
        "outputId": "958366ce-f607-4b17-88d4-9fbdd13e5946"
      },
      "outputs": [
        {
          "output_type": "stream",
          "name": "stderr",
          "text": [
            "100%|██████████| 157/157 [00:04<00:00, 37.92it/s]\n"
          ]
        }
      ],
      "source": [
        "preds = []\n",
        "gts = []\n",
        "for (X,y) in tqdm.tqdm(testloader):\n",
        "  X = X.to(device)\n",
        "  yhat = model(X).argmax(axis=1).tolist()\n",
        "  preds += yhat\n",
        "  gts += y.tolist()\n",
        "preds = np.array(preds)\n",
        "gts = np.array(gts)"
      ]
    },
    {
      "cell_type": "code",
      "execution_count": 101,
      "metadata": {
        "colab": {
          "base_uri": "https://localhost:8080/"
        },
        "id": "1Pp8R2LzN9Ez",
        "outputId": "1352c4db-9d80-47aa-f4b0-88b644c5d7a3"
      },
      "outputs": [
        {
          "output_type": "execute_result",
          "data": {
            "text/plain": [
              "0.711"
            ]
          },
          "metadata": {},
          "execution_count": 101
        }
      ],
      "source": [
        "(preds==gts).mean()"
      ]
    },
    {
      "cell_type": "markdown",
      "metadata": {
        "id": "bJk_EDJXWW_l"
      },
      "source": [
        "## Save plots and predictions"
      ]
    },
    {
      "cell_type": "code",
      "execution_count": 102,
      "metadata": {
        "id": "r8MyRPrRO5Ys"
      },
      "outputs": [],
      "source": [
        "with open(f\"{base_dir}preds/{config['experiment_name']}.npy\",'wb') as outfile:\n",
        "  np.save(outfile,preds)"
      ]
    },
    {
      "cell_type": "code",
      "execution_count": 103,
      "metadata": {
        "id": "iI7U9za1U7Su"
      },
      "outputs": [],
      "source": [
        "fig1.savefig(f\"{base_dir}plots/{config['experiment_name']}.jpg\")"
      ]
    },
    {
      "cell_type": "markdown",
      "source": [
        "# Evaluation"
      ],
      "metadata": {
        "id": "wjzoSdm5YlQs"
      }
    },
    {
      "cell_type": "code",
      "execution_count": 103,
      "metadata": {
        "id": "qTmwRcphYbao"
      },
      "outputs": [],
      "source": []
    }
  ],
  "metadata": {
    "accelerator": "GPU",
    "colab": {
      "provenance": []
    },
    "gpuClass": "standard",
    "kernelspec": {
      "display_name": "Python 3 (ipykernel)",
      "language": "python",
      "name": "python3"
    },
    "language_info": {
      "codemirror_mode": {
        "name": "ipython",
        "version": 3
      },
      "file_extension": ".py",
      "mimetype": "text/x-python",
      "name": "python",
      "nbconvert_exporter": "python",
      "pygments_lexer": "ipython3",
      "version": "3.10.6"
    },
    "vscode": {
      "interpreter": {
        "hash": "916dbcbb3f70747c44a77c7bcd40155683ae19c65e1c03b4aa3499c5328201f1"
      }
    }
  },
  "nbformat": 4,
  "nbformat_minor": 0
}