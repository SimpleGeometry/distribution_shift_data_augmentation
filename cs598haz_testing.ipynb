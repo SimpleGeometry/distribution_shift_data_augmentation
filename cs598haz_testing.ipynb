{
  "cells": [
    {
      "cell_type": "code",
      "execution_count": null,
      "metadata": {
        "id": "pM_5UK-Cv_sh"
      },
      "outputs": [],
      "source": [
        "import torch, torchvision\n",
        "from torch.utils.data import Subset\n",
        "import torchvision.models as models\n",
        "from torchvision import transforms\n",
        "import tqdm\n",
        "import matplotlib.pyplot as plt\n",
        "import numpy as np"
      ]
    },
    {
      "cell_type": "code",
      "source": [
        "config = {\n",
        "    'lr': 0.01,\n",
        "    'batch_size': 64,\n",
        "    'epochs':10,\n",
        "    'val_epochs': 2,\n",
        "    'cpt_epochs': [3,5,7]\n",
        "}"
      ],
      "metadata": {
        "id": "RRRjT_y3GR4B"
      },
      "execution_count": null,
      "outputs": []
    },
    {
      "cell_type": "code",
      "execution_count": null,
      "metadata": {
        "id": "QAGaDbk6Dtrq"
      },
      "outputs": [],
      "source": [
        "device = 'cuda' if torch.cuda.is_available() else 'cpu'\n",
        "assert(device=='cuda')"
      ]
    },
    {
      "cell_type": "code",
      "execution_count": 43,
      "metadata": {
        "id": "eEKUY2oUwIPu"
      },
      "outputs": [],
      "source": [
        "resnet = models.resnet18(weights=models.ResNet18_Weights.DEFAULT)\n",
        "resnet.to(device)\n",
        "freeze_layers = False"
      ]
    },
    {
      "cell_type": "code",
      "execution_count": 44,
      "metadata": {
        "id": "XheDH1fBDtrs"
      },
      "outputs": [],
      "source": [
        "if freeze_layers:\n",
        "    for param in resnet.parameters():\n",
        "        param.requires_grad = False\n",
        "    for param in resnet.fc.parameters():\n",
        "        param.requires_grad = True\n",
        "    # for param in resnet.layer4.parameters():\n",
        "    #     param.requires_grad = True"
      ]
    },
    {
      "cell_type": "code",
      "execution_count": 48,
      "metadata": {
        "id": "R6sFBx_ZxAbT"
      },
      "outputs": [],
      "source": [
        "no_augment = []\n",
        "crop_augment = [transforms.CenterCrop(10)]\n",
        "\n",
        "identity_augment = [\n",
        "    transforms.ToTensor(),\n",
        "    transforms.Normalize((0.485, 0.456, 0.406), (0.229, 0.224, 0.225))]\n",
        "  \n",
        "augmentation = transforms.Compose(no_augment + identity_augment)\n"
      ]
    },
    {
      "cell_type": "code",
      "execution_count": 49,
      "metadata": {
        "colab": {
          "base_uri": "https://localhost:8080/"
        },
        "id": "9Og9wR9jwYF7",
        "outputId": "8c7332bf-7db7-4c36-cb62-7742fabd696d"
      },
      "outputs": [
        {
          "output_type": "stream",
          "name": "stdout",
          "text": [
            "Files already downloaded and verified\n",
            "Files already downloaded and verified\n"
          ]
        },
        {
          "output_type": "execute_result",
          "data": {
            "text/plain": [
              "(50000, 10000)"
            ]
          },
          "metadata": {},
          "execution_count": 49
        }
      ],
      "source": [
        "cifar_train = torchvision.datasets.CIFAR10(\"CIFAR_train\", train=True, download=True, transform=augmentation)\n",
        "cifar_test = torchvision.datasets.CIFAR10(\"CIFAR_test\", train=False, download=True, transform=transforms.Compose(identity_augment))\n",
        "len(cifar_train), len(cifar_test)"
      ]
    },
    {
      "cell_type": "code",
      "execution_count": 50,
      "metadata": {
        "id": "xFJe_9y9xXBq"
      },
      "outputs": [],
      "source": [
        "trainloader = torch.utils.data.DataLoader(cifar_train,\n",
        "                                          batch_size=config['batch_size'],\n",
        "                                          shuffle=True,\n",
        "                                          num_workers=1)\n",
        "testloader = torch.utils.data.DataLoader(cifar_test,\n",
        "                                          batch_size=config['batch_size'],\n",
        "                                          shuffle=False,\n",
        "                                          num_workers=1)    "
      ]
    },
    {
      "cell_type": "code",
      "execution_count": 51,
      "metadata": {
        "colab": {
          "base_uri": "https://localhost:8080/"
        },
        "id": "2J9vm3xYxeMe",
        "outputId": "6334c765-790d-4cf8-9613-5b19c447694f"
      },
      "outputs": [
        {
          "output_type": "stream",
          "name": "stderr",
          "text": [
            "100%|██████████| 782/782 [00:28<00:00, 27.02it/s]\n"
          ]
        },
        {
          "output_type": "stream",
          "name": "stdout",
          "text": [
            "Train loss: 1.9662439823150635 Val loss: 1.6553280353546143\n"
          ]
        },
        {
          "output_type": "stream",
          "name": "stderr",
          "text": [
            "100%|██████████| 782/782 [00:29<00:00, 26.28it/s]\n"
          ]
        },
        {
          "output_type": "stream",
          "name": "stdout",
          "text": [
            "Train loss: 1.419817566871643 Val loss: 1.6553280353546143\n"
          ]
        },
        {
          "output_type": "stream",
          "name": "stderr",
          "text": [
            "100%|██████████| 782/782 [00:28<00:00, 27.83it/s]\n"
          ]
        },
        {
          "output_type": "stream",
          "name": "stdout",
          "text": [
            "Train loss: 1.110310435295105 Val loss: 1.0253894329071045\n"
          ]
        },
        {
          "output_type": "stream",
          "name": "stderr",
          "text": [
            "100%|██████████| 782/782 [00:28<00:00, 27.00it/s]\n"
          ]
        },
        {
          "output_type": "stream",
          "name": "stdout",
          "text": [
            "Train loss: 0.9433453679084778 Val loss: 1.0253894329071045\n"
          ]
        },
        {
          "output_type": "stream",
          "name": "stderr",
          "text": [
            "100%|██████████| 782/782 [00:28<00:00, 27.70it/s]\n"
          ]
        },
        {
          "output_type": "stream",
          "name": "stdout",
          "text": [
            "Train loss: 0.9994478821754456 Val loss: 0.9182018041610718\n"
          ]
        },
        {
          "output_type": "stream",
          "name": "stderr",
          "text": [
            "100%|██████████| 782/782 [00:28<00:00, 27.52it/s]\n"
          ]
        },
        {
          "output_type": "stream",
          "name": "stdout",
          "text": [
            "Train loss: 0.8160498738288879 Val loss: 0.9182018041610718\n"
          ]
        },
        {
          "output_type": "stream",
          "name": "stderr",
          "text": [
            "100%|██████████| 782/782 [00:27<00:00, 28.07it/s]\n"
          ]
        },
        {
          "output_type": "stream",
          "name": "stdout",
          "text": [
            "Train loss: 0.7317594289779663 Val loss: 0.8423252105712891\n"
          ]
        },
        {
          "output_type": "stream",
          "name": "stderr",
          "text": [
            "100%|██████████| 782/782 [00:28<00:00, 27.70it/s]\n"
          ]
        },
        {
          "output_type": "stream",
          "name": "stdout",
          "text": [
            "Train loss: 0.6597252488136292 Val loss: 0.8423252105712891\n"
          ]
        },
        {
          "output_type": "stream",
          "name": "stderr",
          "text": [
            "100%|██████████| 782/782 [00:28<00:00, 27.45it/s]\n"
          ]
        },
        {
          "output_type": "stream",
          "name": "stdout",
          "text": [
            "Train loss: 0.6019214987754822 Val loss: 0.8116746544837952\n"
          ]
        },
        {
          "output_type": "stream",
          "name": "stderr",
          "text": [
            "100%|██████████| 782/782 [00:27<00:00, 28.08it/s]"
          ]
        },
        {
          "output_type": "stream",
          "name": "stdout",
          "text": [
            "Train loss: 0.529735803604126 Val loss: 0.8116746544837952\n"
          ]
        },
        {
          "output_type": "stream",
          "name": "stderr",
          "text": [
            "\n"
          ]
        }
      ],
      "source": [
        "optimizer = torch.optim.Adam(resnet.parameters(),lr=config['lr'])\n",
        "crit = torch.nn.CrossEntropyLoss()\n",
        "train_losses = []\n",
        "val_losses = []\n",
        "\n",
        "for epoch in range(config['epochs']):\n",
        "  tq = tqdm.tqdm(trainloader)\n",
        "  \n",
        "  train_loss_sum = 0\n",
        "\n",
        "  val_loss_sum = 0\n",
        "\n",
        "\n",
        "  for (data, gt) in tq:\n",
        "    data = data.to(device)\n",
        "    gt = gt.to(device)\n",
        "    with torch.enable_grad():\n",
        "      pred = resnet(data)\n",
        "      loss = crit(pred, gt)\n",
        "\n",
        "      optimizer.zero_grad()\n",
        "      loss.backward()\n",
        "      optimizer.step()\n",
        "\n",
        "      train_loss_sum += loss\n",
        "\n",
        "  \n",
        "  # val\n",
        "  if epoch % config['val_epochs'] == 0:\n",
        "    for (data,gt) in testloader:\n",
        "      data = data.to(device)\n",
        "      gt = gt.to(device)\n",
        "      pred = resnet(data)\n",
        "      loss = crit(pred,gt)\n",
        "      val_loss_sum+=loss\n",
        "      \n",
        "    val_loss_avg = val_loss_sum / len(testloader)\n",
        "    val_losses.append(val_loss_avg.item())\n",
        "\n",
        "  train_loss_avg = train_loss_sum / len(trainloader)\n",
        "  train_losses.append(train_loss_avg.item())\n",
        "  print(f\"Train loss: {train_loss_avg} Val loss: {val_loss_avg}\")"
      ]
    },
    {
      "cell_type": "code",
      "execution_count": 52,
      "metadata": {
        "id": "-KuNlzW8xgrF",
        "colab": {
          "base_uri": "https://localhost:8080/",
          "height": 283
        },
        "outputId": "2cd6ce65-fe23-4a99-fe7d-67e51f090777"
      },
      "outputs": [
        {
          "output_type": "execute_result",
          "data": {
            "text/plain": [
              "<matplotlib.legend.Legend at 0x7fa1f87ee670>"
            ]
          },
          "metadata": {},
          "execution_count": 52
        },
        {
          "output_type": "display_data",
          "data": {
            "text/plain": [
              "<Figure size 432x288 with 1 Axes>"
            ],
            "image/png": "[encoded data removed]"
          },
          "metadata": {
            "needs_background": "light"
          }
        }
      ],
      "source": [
        "plt.plot(train_losses, label='train loss')\n",
        "plt.plot(np.arange(0,config['val_epochs']*len(val_losses),config['val_epochs']),val_losses, label='val_loss')\n",
        "plt.legend()"
      ]
    },
    {
      "cell_type": "code",
      "source": [
        "preds = []\n",
        "gts = []\n",
        "for (X,y) in tqdm.tqdm(testloader):\n",
        "  X = X.to(device)\n",
        "  yhat = resnet(X).argmax(axis=1).tolist()\n",
        "  preds += yhat\n",
        "  gts += y.tolist()\n",
        "preds = np.array(preds)\n",
        "gts = np.array(gts)"
      ],
      "metadata": {
        "colab": {
          "base_uri": "https://localhost:8080/"
        },
        "id": "HZUSPhkXMKZb",
        "outputId": "2bd475d4-da12-4aff-e797-320a2df2ef4d"
      },
      "execution_count": 53,
      "outputs": [
        {
          "output_type": "stream",
          "name": "stderr",
          "text": [
            "100%|██████████| 157/157 [00:04<00:00, 38.25it/s]\n"
          ]
        }
      ]
    },
    {
      "cell_type": "code",
      "source": [
        "(preds==gts).mean()"
      ],
      "metadata": {
        "id": "1Pp8R2LzN9Ez",
        "colab": {
          "base_uri": "https://localhost:8080/"
        },
        "outputId": "715ce68f-7d9b-40cd-f11d-906d07db35bc"
      },
      "execution_count": 54,
      "outputs": [
        {
          "output_type": "execute_result",
          "data": {
            "text/plain": [
              "0.7348"
            ]
          },
          "metadata": {},
          "execution_count": 54
        }
      ]
    },
    {
      "cell_type": "code",
      "source": [],
      "metadata": {
        "id": "r8MyRPrRO5Ys"
      },
      "execution_count": null,
      "outputs": []
    }
  ],
  "metadata": {
    "accelerator": "GPU",
    "colab": {
      "provenance": []
    },
    "gpuClass": "standard",
    "kernelspec": {
      "display_name": "Python 3 (ipykernel)",
      "language": "python",
      "name": "python3"
    },
    "language_info": {
      "codemirror_mode": {
        "name": "ipython",
        "version": 3
      },
      "file_extension": ".py",
      "mimetype": "text/x-python",
      "name": "python",
      "nbconvert_exporter": "python",
      "pygments_lexer": "ipython3",
      "version": "3.10.6"
    },
    "vscode": {
      "interpreter": {
        "hash": "916dbcbb3f70747c44a77c7bcd40155683ae19c65e1c03b4aa3499c5328201f1"
      }
    }
  },
  "nbformat": 4,
  "nbformat_minor": 0
}